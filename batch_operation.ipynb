{
 "cells": [
  {
   "cell_type": "code",
   "execution_count": null,
   "source": [
    "from Extraction import isTarget,getCause_Effect\r\n",
    "import pandas as pd"
   ],
   "outputs": [],
   "metadata": {
    "ExecuteTime": {
     "end_time": "2021-05-12T09:49:17.459522Z",
     "start_time": "2021-05-12T09:49:13.961900Z"
    }
   }
  },
  {
   "cell_type": "code",
   "execution_count": null,
   "source": [
    "df=pd.read_excel('data.xlsx',sheet_name='句子表')\r\n",
    "df=df.iloc[:,[0,6]]"
   ],
   "outputs": [],
   "metadata": {
    "ExecuteTime": {
     "end_time": "2021-05-12T09:49:17.755889Z",
     "start_time": "2021-05-12T09:49:17.461520Z"
    }
   }
  },
  {
   "cell_type": "code",
   "execution_count": null,
   "source": [
    "df"
   ],
   "outputs": [],
   "metadata": {
    "ExecuteTime": {
     "end_time": "2021-05-12T09:49:17.786866Z",
     "start_time": "2021-05-12T09:49:17.757887Z"
    }
   }
  },
  {
   "cell_type": "code",
   "execution_count": null,
   "source": [
    "idlist=[]\r\n",
    "spolist=[]\r\n",
    "for row in df.itertuples():\r\n",
    "    myid=getattr(row, 'ID')\r\n",
    "    text=getattr(row, 'Simplified_Text') # 输出每一行\r\n",
    "    print('{0}: '.format(myid),end='')\r\n",
    "    conll,common=isTarget(text,api='hanlp')\r\n",
    "    result=getCause_Effect(conll,common)\r\n",
    "    if result:\r\n",
    "        for spo in result:\r\n",
    "            idlist.append(myid)\r\n",
    "            spolist.append(spo)"
   ],
   "outputs": [],
   "metadata": {
    "ExecuteTime": {
     "end_time": "2021-05-12T09:49:27.868755Z",
     "start_time": "2021-05-12T09:49:17.789825Z"
    },
    "tags": []
   }
  },
  {
   "cell_type": "code",
   "execution_count": null,
   "source": [
    "slist=[]\r\n",
    "plist=[]\r\n",
    "olist=[]\r\n",
    "for spo in spolist:\r\n",
    "    if spo is not None:\r\n",
    "        slist.append(spo.S)\r\n",
    "        plist.append(spo.P)\r\n",
    "        olist.append(spo.O)"
   ],
   "outputs": [],
   "metadata": {
    "ExecuteTime": {
     "end_time": "2021-05-12T09:49:27.884289Z",
     "start_time": "2021-05-12T09:49:27.872744Z"
    }
   }
  },
  {
   "cell_type": "code",
   "execution_count": null,
   "source": [
    "output=pd.DataFrame({'id':idlist,'s':slist,'p':plist,'o':olist})\r\n",
    "output.to_excel(excel_writer='result1.1_hanlp.xlsx',index=False)"
   ],
   "outputs": [],
   "metadata": {
    "ExecuteTime": {
     "end_time": "2021-05-12T09:49:43.991526Z",
     "start_time": "2021-05-12T09:49:43.947535Z"
    }
   }
  },
  {
   "cell_type": "code",
   "execution_count": null,
   "source": [
    "print('OK')"
   ],
   "outputs": [],
   "metadata": {
    "ExecuteTime": {
     "end_time": "2021-05-12T09:49:46.473543Z",
     "start_time": "2021-05-12T09:49:46.469295Z"
    }
   }
  }
 ],
 "metadata": {
  "hide_input": false,
  "kernelspec": {
   "display_name": "Python 3",
   "language": "python",
   "name": "python3"
  },
  "language_info": {
   "codemirror_mode": {
    "name": "ipython",
    "version": 3
   },
   "file_extension": ".py",
   "mimetype": "text/x-python",
   "name": "python",
   "nbconvert_exporter": "python",
   "pygments_lexer": "ipython3",
   "version": "3.7.4"
  },
  "toc": {
   "base_numbering": 1,
   "nav_menu": {},
   "number_sections": true,
   "sideBar": true,
   "skip_h1_title": false,
   "title_cell": "Table of Contents",
   "title_sidebar": "Contents",
   "toc_cell": false,
   "toc_position": {},
   "toc_section_display": true,
   "toc_window_display": false
  },
  "varInspector": {
   "cols": {
    "lenName": 16,
    "lenType": 16,
    "lenVar": 40
   },
   "kernels_config": {
    "python": {
     "delete_cmd_postfix": "",
     "delete_cmd_prefix": "del ",
     "library": "var_list.py",
     "varRefreshCmd": "print(var_dic_list())"
    },
    "r": {
     "delete_cmd_postfix": ") ",
     "delete_cmd_prefix": "rm(",
     "library": "var_list.r",
     "varRefreshCmd": "cat(var_dic_list()) "
    }
   },
   "types_to_exclude": [
    "module",
    "function",
    "builtin_function_or_method",
    "instance",
    "_Feature"
   ],
   "window_display": false
  }
 },
 "nbformat": 4,
 "nbformat_minor": 2
}