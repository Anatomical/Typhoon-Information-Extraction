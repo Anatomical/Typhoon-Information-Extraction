{
 "cells": [
  {
   "cell_type": "code",
   "execution_count": null,
   "source": [
    "from Extraction import isTarget,getCause_Effect"
   ],
   "outputs": [],
   "metadata": {
    "ExecuteTime": {
     "end_time": "2021-06-09T02:50:48.892451Z",
     "start_time": "2021-06-09T02:50:48.875816Z"
    }
   }
  },
  {
   "cell_type": "code",
   "execution_count": null,
   "source": [
    "text='超强台风“圣帕”先后给深圳带来高温、强对流和降雨天气'"
   ],
   "outputs": [],
   "metadata": {
    "ExecuteTime": {
     "end_time": "2021-06-09T02:50:48.904470Z",
     "start_time": "2021-06-09T02:50:48.892451Z"
    }
   }
  },
  {
   "cell_type": "code",
   "execution_count": null,
   "source": [
    "'''\r\n",
    "判断是否是包含因果关系的文本\r\n",
    "text=待分析文本\r\n",
    "api=自然语言处理api（可选择\"hanlp\"或\"baidu\",默认使用baidu）\r\n",
    "'''\r\n",
    "conll,common=isTarget(text,api='hanlp')"
   ],
   "outputs": [],
   "metadata": {
    "ExecuteTime": {
     "end_time": "2021-06-09T02:50:49.303283Z",
     "start_time": "2021-06-09T02:50:48.904470Z"
    }
   }
  },
  {
   "cell_type": "code",
   "execution_count": null,
   "source": [
    "'''\r\n",
    "从文本中抽取因果关系三元组\r\n",
    "score=a*SQD+b*DED，可根据需要调整a与b的系数\r\n",
    "并用表格显示分析结果\r\n",
    "'''\r\n",
    "table=None\r\n",
    "if getCause_Effect(conll,common,a=0.1,b=1):\r\n",
    "    table=conll.showTable()\r\n",
    "table.render_notebook()"
   ],
   "outputs": [],
   "metadata": {
    "ExecuteTime": {
     "end_time": "2021-06-09T02:50:49.331491Z",
     "start_time": "2021-06-09T02:50:49.303283Z"
    },
    "scrolled": false
   }
  },
  {
   "cell_type": "code",
   "execution_count": null,
   "source": [
    "'''\r\n",
    "用树形图展示句法树\r\n",
    "'''\r\n",
    "tree=conll.showTree()\r\n",
    "tree.render_notebook()"
   ],
   "outputs": [],
   "metadata": {
    "ExecuteTime": {
     "end_time": "2021-06-09T02:50:49.359488Z",
     "start_time": "2021-06-09T02:50:49.331491Z"
    }
   }
  }
 ],
 "metadata": {
  "hide_input": false,
  "kernelspec": {
   "display_name": "Python 3",
   "language": "python",
   "name": "python3"
  },
  "language_info": {
   "codemirror_mode": {
    "name": "ipython",
    "version": 3
   },
   "file_extension": ".py",
   "mimetype": "text/x-python",
   "name": "python",
   "nbconvert_exporter": "python",
   "pygments_lexer": "ipython3",
   "version": "3.7.4"
  },
  "toc": {
   "base_numbering": 1,
   "nav_menu": {},
   "number_sections": true,
   "sideBar": true,
   "skip_h1_title": false,
   "title_cell": "Table of Contents",
   "title_sidebar": "Contents",
   "toc_cell": false,
   "toc_position": {},
   "toc_section_display": true,
   "toc_window_display": false
  },
  "varInspector": {
   "cols": {
    "lenName": 16,
    "lenType": 16,
    "lenVar": 40
   },
   "kernels_config": {
    "python": {
     "delete_cmd_postfix": "",
     "delete_cmd_prefix": "del ",
     "library": "var_list.py",
     "varRefreshCmd": "print(var_dic_list())"
    },
    "r": {
     "delete_cmd_postfix": ") ",
     "delete_cmd_prefix": "rm(",
     "library": "var_list.r",
     "varRefreshCmd": "cat(var_dic_list()) "
    }
   },
   "types_to_exclude": [
    "module",
    "function",
    "builtin_function_or_method",
    "instance",
    "_Feature"
   ],
   "window_display": false
  }
 },
 "nbformat": 4,
 "nbformat_minor": 4
}